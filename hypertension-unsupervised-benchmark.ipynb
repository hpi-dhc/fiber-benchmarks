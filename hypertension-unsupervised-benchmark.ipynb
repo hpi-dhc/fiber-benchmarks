{
 "cells": [
  {
   "cell_type": "code",
   "execution_count": null,
   "metadata": {},
   "outputs": [],
   "source": [
    "%load_ext autoreload\n",
    "%autoreload 2"
   ]
  },
  {
   "cell_type": "code",
   "execution_count": null,
   "metadata": {},
   "outputs": [],
   "source": [
    "import pandas as pd\n",
    "\n",
    "from fiber import OCCURRENCE_INDEX\n",
    "from fiber.utils import Timer\n",
    "from fiber.cohort import Cohort\n",
    "from fiber.condition import MRNs, Diagnosis\n",
    "from fiber.extensions import BINARY_PIVOT_CONFIG\n",
    "from fiber.storage import yaml as fiber_yaml"
   ]
  },
  {
   "cell_type": "markdown",
   "metadata": {},
   "source": [
    "# Preparations"
   ]
  },
  {
   "cell_type": "code",
   "execution_count": null,
   "metadata": {},
   "outputs": [],
   "source": [
    "hypertension_cond = fiber_yaml.get_condition(\n",
    "    Diagnosis, \n",
    "    'hypertension complicated', \n",
    "    coding_schemes=['ICD-10']\n",
    ")\n",
    "hypertension_cohort = Cohort(hypertension_cond)"
   ]
  },
  {
   "cell_type": "code",
   "execution_count": null,
   "metadata": {
    "scrolled": false
   },
   "outputs": [],
   "source": [
    "occurrences = hypertension_cohort.get_occurrences(hypertension_cohort.condition)"
   ]
  },
  {
   "cell_type": "code",
   "execution_count": null,
   "metadata": {},
   "outputs": [],
   "source": [
    "occurrences.sort_values(OCCURRENCE_INDEX, inplace=True)"
   ]
  },
  {
   "cell_type": "markdown",
   "metadata": {},
   "source": [
    "# Utils"
   ]
  },
  {
   "cell_type": "code",
   "execution_count": null,
   "metadata": {},
   "outputs": [],
   "source": [
    "import json\n",
    "import requests\n",
    "\n",
    "def slack_notification(i):\n",
    "    webhook_url = 'https://hooks.slack.com/services/xxxxxxxxxxxxxxxx'\n",
    "    slack_data = {'text': f'Sup! Done {str(i)} occurrences'}\n",
    "\n",
    "    response = requests.post(\n",
    "        webhook_url, data=json.dumps(slack_data),\n",
    "        headers={'Content-Type': 'application/json'}\n",
    "    )\n",
    "    if response.status_code != 200:\n",
    "        raise ValueError(\n",
    "            'Request to slack returned an error %s, the response is:\\n%s'\n",
    "            % (response.status_code, response.text)\n",
    "        )"
   ]
  },
  {
   "cell_type": "markdown",
   "metadata": {},
   "source": [
    "# Benchmark"
   ]
  },
  {
   "cell_type": "code",
   "execution_count": null,
   "metadata": {},
   "outputs": [],
   "source": [
    "benchmark_results = {}\n",
    "measurements = []\n",
    "shapes = []\n",
    "size = []"
   ]
  },
  {
   "cell_type": "code",
   "execution_count": null,
   "metadata": {
    "scrolled": true
   },
   "outputs": [],
   "source": [
    "%%capture cap\n",
    "for limit in [100, 500, 1000, 5000, 10000, 15000, 20000, 25000, 30000, 50000]:\n",
    "    print(f'################    {limit}    ################')\n",
    "    mrn_cond = MRNs(mrns=occurrences[:limit])\n",
    "    mrn_cohort = Cohort(mrn_cond)\n",
    "    print('Starting ...')\n",
    "    with Timer('Total time: ') as t:\n",
    "        try:\n",
    "            results = mrn_cohort.get_pivoted_features(pivot_config=BINARY_PIVOT_CONFIG, window=[-50, 50])\n",
    "        except Exception as e:\n",
    "            print(e)\n",
    "            traceback.print_exc()\n",
    "    print('Done ...')\n",
    "    print('Shape: ', results.shape)\n",
    "    print('Time elapsed', t.elapsed)\n",
    "    print('Size', results.memory_usage(index=True, deep=True).sum())\n",
    "    shapes.append(results.shape)\n",
    "    measurements.append((str(limit), t.elapsed))\n",
    "    size.append((str(limit), results.memory_usage(index=True, deep=True).sum()))\n",
    "slack_notification(limit)"
   ]
  },
  {
   "cell_type": "code",
   "execution_count": null,
   "metadata": {
    "scrolled": true
   },
   "outputs": [],
   "source": [
    "# reproducible cell output, even if you reload the notebook (after any time)\n",
    "cap.show()"
   ]
  },
  {
   "cell_type": "code",
   "execution_count": null,
   "metadata": {},
   "outputs": [],
   "source": [
    "runtimes = pd.DataFrame(measurements, columns=['# occurrences', 'runtime in s'])\n",
    "features = pd.DataFrame(shapes, columns=['# occurrences', '# features'])\n",
    "sizes = pd.DataFrame(size, columns=['# occurrences', 'memory consumption'])"
   ]
  },
  {
   "cell_type": "code",
   "execution_count": null,
   "metadata": {},
   "outputs": [],
   "source": [
    "import pickle"
   ]
  },
  {
   "cell_type": "code",
   "execution_count": null,
   "metadata": {},
   "outputs": [],
   "source": [
    "pickle.dump({\n",
    "    \"runtimes\": runtimes, \n",
    "    \"features\": features, \n",
    "    \"sizes\": sizes\n",
    "}, open(\"/path/to/unsupervised.pkl\", 'wb'))"
   ]
  },
  {
   "cell_type": "code",
   "execution_count": null,
   "metadata": {
    "scrolled": true
   },
   "outputs": [],
   "source": [
    "features.plot.line(x='# occurrences', y='# features')"
   ]
  },
  {
   "cell_type": "code",
   "execution_count": null,
   "metadata": {
    "scrolled": true
   },
   "outputs": [],
   "source": [
    "runtimes.plot.line(x='# occurrences', y='runtime in s')"
   ]
  },
  {
   "cell_type": "code",
   "execution_count": null,
   "metadata": {
    "scrolled": true
   },
   "outputs": [],
   "source": [
    "sizes.plot.line(x='# occurrences', y='memory consumption')"
   ]
  },
  {
   "cell_type": "code",
   "execution_count": null,
   "metadata": {},
   "outputs": [],
   "source": [
    "slack_notification('done')"
   ]
  }
 ],
 "metadata": {
  "kernelspec": {
   "display_name": "Python 3",
   "language": "python",
   "name": "python3"
  },
  "language_info": {
   "codemirror_mode": {
    "name": "ipython",
    "version": 3
   },
   "file_extension": ".py",
   "mimetype": "text/x-python",
   "name": "python",
   "nbconvert_exporter": "python",
   "pygments_lexer": "ipython3",
   "version": "3.6.5"
  }
 },
 "nbformat": 4,
 "nbformat_minor": 2
}
