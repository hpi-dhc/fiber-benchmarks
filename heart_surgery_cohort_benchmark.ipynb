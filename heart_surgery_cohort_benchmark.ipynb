{
 "cells": [
  {
   "cell_type": "code",
   "execution_count": null,
   "metadata": {},
   "outputs": [],
   "source": [
    "import pandas as pd\n",
    "from fiber.utils import Timer\n",
    "from fiber.database.hana import engine as hana_engine\n",
    "from fiber.database.mysql import engine as mysql_engine\n",
    "from fiber.condition import LabValue"
   ]
  },
  {
   "cell_type": "code",
   "execution_count": null,
   "metadata": {},
   "outputs": [],
   "source": [
    "import json\n",
    "import requests\n",
    "\n",
    "def slack_notification(text):\n",
    "    webhook_url = 'https://hooks.slack.com/services/xxxxxxxxxxxxxxxxxxxxx'\n",
    "    slack_data = {'text': text}\n",
    "\n",
    "    response = requests.post(\n",
    "        webhook_url, data=json.dumps(slack_data),\n",
    "        headers={'Content-Type': 'application/json'}\n",
    "    )\n",
    "    if response.status_code != 200:\n",
    "        raise ValueError(\n",
    "            'Request to slack returned an error %s, the response is:\\n%s'\n",
    "            % (response.status_code, response.text)\n",
    "        )"
   ]
  },
  {
   "cell_type": "code",
   "execution_count": null,
   "metadata": {
    "scrolled": true
   },
   "outputs": [],
   "source": [
    "def plot_line(df, x_col):\n",
    "    return df.plot.line(x=x_col, y='Runtime in s')"
   ]
  },
  {
   "cell_type": "markdown",
   "metadata": {},
   "source": [
    "## `Procedure('35.%', 'ICD-9') | Procedure('36.1%', 'ICD-9')`"
   ]
  },
  {
   "cell_type": "code",
   "execution_count": null,
   "metadata": {},
   "outputs": [],
   "source": [
    "def build_procedure_query(limit):\n",
    "    hana_query = \"\"\"\n",
    "        SELECT DISTINCT \"MSDW_2018\".\"D_PERSON\".\"MEDICAL_RECORD_NUMBER\"\n",
    "        FROM \"MSDW_2018\".\"FACT\"\n",
    "            JOIN \"MSDW_2018\".\"D_PERSON\" ON \"MSDW_2018\".\"FACT\".\"PERSON_KEY\" = \"MSDW_2018\".\"D_PERSON\".\"PERSON_KEY\"\n",
    "            JOIN \"MSDW_2018\".\"B_PROCEDURE\" ON \"MSDW_2018\".\"FACT\".\"PROCEDURE_GROUP_KEY\" = \"MSDW_2018\".\"B_PROCEDURE\".\"PROCEDURE_GROUP_KEY\"\n",
    "            JOIN \"MSDW_2018\".\"FD_PROCEDURE\" ON \"MSDW_2018\".\"FD_PROCEDURE\".\"PROCEDURE_KEY\" = \"MSDW_2018\".\"B_PROCEDURE\".\"PROCEDURE_KEY\"\n",
    "        WHERE \"MSDW_2018\".\"FACT\".\"AGE_IN_DAYS\" >= 6570\n",
    "          AND \"MSDW_2018\".\"FD_PROCEDURE\".\"CONTEXT_NAME\" LIKE 'ICD-9'\n",
    "          AND upper(\"MSDW_2018\".\"FD_PROCEDURE\".\"CONTEXT_PROCEDURE_CODE\") LIKE '35.%'\n",
    "          OR \"MSDW_2018\".\"FACT\".\"AGE_IN_DAYS\" >= 6570\n",
    "          AND \"MSDW_2018\".\"FD_PROCEDURE\".\"CONTEXT_NAME\" LIKE 'ICD-9'\n",
    "          AND upper(\"MSDW_2018\".\"FD_PROCEDURE\".\"CONTEXT_PROCEDURE_CODE\") LIKE '36.1%'\n",
    "        LIMIT \n",
    "    \"\"\" + str(limit)\n",
    "\n",
    "    mysql_query = \"\"\"\n",
    "        SELECT DISTINCT `D_PERSON`.`MEDICAL_RECORD_NUMBER`\n",
    "        FROM `FACT`\n",
    "            INNER JOIN `D_PERSON` ON `FACT`.`PERSON_KEY` = `D_PERSON`.`PERSON_KEY`\n",
    "            INNER JOIN `B_PROCEDURE` ON `FACT`.`PROCEDURE_GROUP_KEY` = `B_PROCEDURE`.`PROCEDURE_GROUP_KEY`\n",
    "            INNER JOIN `FD_PROCEDURE` ON `FD_PROCEDURE`.`PROCEDURE_KEY` = `B_PROCEDURE`.`PROCEDURE_KEY`\n",
    "        WHERE `FACT`.`AGE_IN_DAYS` >= 6570\n",
    "          AND `FD_PROCEDURE`.`CONTEXT_NAME` LIKE 'ICD-9'\n",
    "          AND upper(`FD_PROCEDURE`.`CONTEXT_PROCEDURE_CODE`) LIKE '35.%%'\n",
    "          OR `FACT`.`AGE_IN_DAYS` >= 6570\n",
    "          AND `FD_PROCEDURE`.`CONTEXT_NAME` LIKE 'ICD-9'\n",
    "          AND upper(`FD_PROCEDURE`.`CONTEXT_PROCEDURE_CODE`) LIKE '36.1%%'\n",
    "        LIMIT \n",
    "    \"\"\" + str(limit)\n",
    "    return (hana_query, mysql_query)"
   ]
  },
  {
   "cell_type": "code",
   "execution_count": null,
   "metadata": {},
   "outputs": [],
   "source": [
    "def execute_procedure_benchmark(limits, procedure_query_func):\n",
    "    hana_benchmark_results = []\n",
    "    mysql_benchmark_results = []\n",
    "    for limit in limits:\n",
    "        queries = procedure_query_func(limit)\n",
    "        with Timer() as t:\n",
    "            pd.read_sql(queries[0], hana_engine)\n",
    "        hana_benchmark_results.append((str(limit), t.elapsed))\n",
    "        with Timer() as t:\n",
    "            pd.read_sql(queries[1], mysql_engine)\n",
    "        mysql_benchmark_results.append((str(limit), t.elapsed))\n",
    "        \n",
    "        slack_notification(f'Sup! Done {str(limit)} medical record numbers')\n",
    "    return (\n",
    "        pd.DataFrame(hana_benchmark_results, columns=['# Patients', 'runtime in s']),\n",
    "        pd.DataFrame(mysql_benchmark_results, columns=['# Patients', 'runtime in s'])\n",
    "    )"
   ]
  },
  {
   "cell_type": "code",
   "execution_count": null,
   "metadata": {},
   "outputs": [],
   "source": [
    "limits = [10, 100, 500, 1000, 5000, 10000, 15000]\n",
    "hana_procedure_results, mysql_procedure_results = execute_procedure_benchmark(limits, build_procedure_query)\n",
    "\n",
    "hana_procedure_results.to_csv('/home/martet02/benchmarks/hana/procedure.csv')\n",
    "mysql_procedure_results.to_csv('/home/martet02/benchmarks/mysql/procedure.csv')"
   ]
  },
  {
   "cell_type": "code",
   "execution_count": null,
   "metadata": {},
   "outputs": [],
   "source": [
    "plot_line(hana_procedure_results, '# Patients')"
   ]
  },
  {
   "cell_type": "code",
   "execution_count": null,
   "metadata": {},
   "outputs": [],
   "source": [
    "plot_line(mysql_procedure_results, '# Patients')"
   ]
  },
  {
   "cell_type": "markdown",
   "metadata": {},
   "source": [
    "## `LabValue('%Glucose%').patients_per('TEST_NAME')`"
   ]
  },
  {
   "cell_type": "code",
   "execution_count": null,
   "metadata": {
    "scrolled": true
   },
   "outputs": [],
   "source": [
    "def build_lab_value_query(limit):\n",
    "    hana_query = \"\"\"\n",
    "        SELECT DISTINCT TEST_NAME,\n",
    "            count(DISTINCT \"EPIC_LAB\".\"MEDICAL_RECORD_NUMBER\") AS patients\n",
    "        FROM \"MSDW_2018\".\"EPIC_LAB\"\n",
    "        WHERE upper(\"EPIC_LAB\".\"TEST_NAME\") LIKE '%GLUCOSE%'\n",
    "            AND \"EPIC_LAB\".\"ID\" < \"\"\" + str(limit) + \"\"\"\n",
    "        GROUP BY TEST_NAME\n",
    "        ORDER BY patients DESC\n",
    "    \"\"\"\n",
    "\n",
    "    mysql_query = \"\"\"\n",
    "        SELECT DISTINCT TEST_NAME,\n",
    "            count(DISTINCT `EPIC_LAB`.`MEDICAL_RECORD_NUMBER`) AS patients\n",
    "        FROM `EPIC_LAB`\n",
    "        WHERE upper(`EPIC_LAB`.`TEST_NAME`) LIKE '%%GLUCOSE%%' \n",
    "            AND `EPIC_LAB`.`ID` < \"\"\" + str(limit) + \"\"\"\n",
    "        GROUP BY `TEST_NAME`\n",
    "        ORDER BY patients DESC\n",
    "    \"\"\"\n",
    "    return (hana_query, mysql_query)"
   ]
  },
  {
   "cell_type": "code",
   "execution_count": null,
   "metadata": {},
   "outputs": [],
   "source": [
    "def execute_labvalue_benchmark(limits, labvalue_query_func):\n",
    "    hana_benchmark_results = []\n",
    "    mysql_benchmark_results = []\n",
    "    for limit in limits:\n",
    "        queries = labvalue_query_func(limit)\n",
    "        with Timer() as t:\n",
    "            pd.read_sql(queries[0], hana_engine)\n",
    "        hana_benchmark_results.append((str(limit), t.elapsed))\n",
    "        with Timer() as t:\n",
    "            pd.read_sql(queries[1], mysql_engine)\n",
    "        mysql_benchmark_results.append((str(limit), t.elapsed))\n",
    "\n",
    "        slack_notification(f'Sup! Done {str(limit)} lab values')\n",
    "\n",
    "    return (\n",
    "        pd.DataFrame(hana_benchmark_results, columns=['# LabTests', 'Runtime in s']),\n",
    "        pd.DataFrame(mysql_benchmark_results, columns=['# LabTests', 'Runtime in s'])\n",
    "    )"
   ]
  },
  {
   "cell_type": "code",
   "execution_count": null,
   "metadata": {
    "scrolled": true
   },
   "outputs": [],
   "source": [
    "%%capture cap\n",
    "limits = [10, 100, 1000, 10_000, 100_000, 1_000_000, 10_000_000, 100_000_000]\n",
    "hana_labvalue_results, mysql_labvalue_results = execute_labvalue_benchmark(limits, build_lab_value_query)\n",
    "\n",
    "hana_labvalue_results.to_csv('/path/to/benchmarks/hana/labvalue.csv')\n",
    "mysql_labvalue_results.to_csv('/path/to/benchmarks/mysql/labvalue.csv')"
   ]
  },
  {
   "cell_type": "code",
   "execution_count": null,
   "metadata": {},
   "outputs": [],
   "source": [
    "plot_line(hana_labvalue_results, '# LabTests')"
   ]
  },
  {
   "cell_type": "code",
   "execution_count": null,
   "metadata": {},
   "outputs": [],
   "source": [
    "plot_line(mysql_labvalue_results, '# LabTests')"
   ]
  }
 ],
 "metadata": {
  "kernelspec": {
   "display_name": "Python 3",
   "language": "python",
   "name": "python3"
  },
  "language_info": {
   "codemirror_mode": {
    "name": "ipython",
    "version": 3
   },
   "file_extension": ".py",
   "mimetype": "text/x-python",
   "name": "python",
   "nbconvert_exporter": "python",
   "pygments_lexer": "ipython3",
   "version": "3.6.5"
  }
 },
 "nbformat": 4,
 "nbformat_minor": 2
}
