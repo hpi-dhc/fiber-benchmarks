{
 "cells": [
  {
   "cell_type": "code",
   "execution_count": null,
   "metadata": {},
   "outputs": [],
   "source": [
    "import json\n",
    "import requests\n",
    "\n",
    "import matplotlib.pyplot as plt\n",
    "import pandas as pd\n",
    "\n",
    "from fiber.cohort import Cohort\n",
    "from fiber.condition import Procedure, Diagnosis\n",
    "from fiber.database import read_with_progress\n",
    "from fiber.database.hana import engine as hana_engine\n",
    "from fiber.database.mysql import engine as mysql_engine\n",
    "from fiber.utils import Timer"
   ]
  },
  {
   "cell_type": "code",
   "execution_count": null,
   "metadata": {},
   "outputs": [],
   "source": [
    "def slack_notification(text):\n",
    "    webhook_url = 'https://hooks.slack.com/services/xxxx/yyyy'\n",
    "    slack_data = {'text': text}\n",
    "\n",
    "    response = requests.post(\n",
    "        webhook_url, data=json.dumps(slack_data),\n",
    "        headers={'Content-Type': 'application/json'}\n",
    "    )\n",
    "    if response.status_code != 200:\n",
    "        raise ValueError(\n",
    "            'Request to slack returned an error %s, the response is:\\n%s'\n",
    "            % (response.status_code, response.text)\n",
    "        )"
   ]
  },
  {
   "cell_type": "markdown",
   "metadata": {},
   "source": [
    "# `sample_cohort.values_for(Diagnosis('584.9', 'ICD-9'))`\n",
    "\n",
    "This notebook executes the benchmark for value fetching of a specific diagnosis.\n",
    "The values are fetched for a cohort of heart surgery patients `sample_cohort`.\n",
    "\n",
    "The queries in `build_query` emulate FIBER's translation process.\n",
    "However, they have a possibility to limit the number of included MRNs in the result, which should control the result size.\n",
    "\n",
    "The benchmark is run for up to 15,000 medical record numbers and reports the execution and fetching time of the queries on HANA and MySQL as well as the number of rows fetched per iteration."
   ]
  },
  {
   "cell_type": "code",
   "execution_count": null,
   "metadata": {},
   "outputs": [],
   "source": [
    "sample_cohort = Cohort(Procedure('35.%', 'ICD-9') | Procedure('36.1%', 'ICD-9'))\n",
    "hs_mrns = sample_cohort.mrns()"
   ]
  },
  {
   "cell_type": "code",
   "execution_count": null,
   "metadata": {},
   "outputs": [],
   "source": [
    "def build_query(mrns, limit):\n",
    "    mrn_query = '('\n",
    "    for p in list(mrns)[0:limit]:\n",
    "        mrn_query += \"'\" + p + \"',\"\n",
    "    mrn_query = mrn_query[:-1] + ')'\n",
    "\n",
    "    hana_query = \"\"\"\n",
    "        SELECT DISTINCT D_PERSON.MEDICAL_RECORD_NUMBER, FACT.AGE_IN_DAYS, FD_DIAGNOSIS.CONTEXT_NAME, FD_DIAGNOSIS.CONTEXT_DIAGNOSIS_CODE \n",
    "        FROM \"MSDW_2018\".\"FACT\" \n",
    "            JOIN \"MSDW_2018\".\"D_PERSON\" ON \"MSDW_2018\".\"FACT\".\"PERSON_KEY\" = \"MSDW_2018\".\"D_PERSON\".\"PERSON_KEY\" \n",
    "            JOIN \"MSDW_2018\".\"B_DIAGNOSIS\" ON \"MSDW_2018\".\"FACT\".\"DIAGNOSIS_GROUP_KEY\" = \"MSDW_2018\".\"B_DIAGNOSIS\".\"DIAGNOSIS_GROUP_KEY\" \n",
    "            JOIN \"MSDW_2018\".\"FD_DIAGNOSIS\" ON \"MSDW_2018\".\"FD_DIAGNOSIS\".\"DIAGNOSIS_KEY\" = \"MSDW_2018\".\"B_DIAGNOSIS\".\"DIAGNOSIS_KEY\" \n",
    "        WHERE \"MSDW_2018\".\"FD_DIAGNOSIS\".\"CONTEXT_NAME\" LIKE 'ICD-9' \n",
    "            AND upper(\"MSDW_2018\".\"FD_DIAGNOSIS\".\"CONTEXT_DIAGNOSIS_CODE\") LIKE '584.9' \n",
    "            AND \"MSDW_2018\".\"D_PERSON\".\"MEDICAL_RECORD_NUMBER\" IN \n",
    "        \"\"\" + mrn_query\n",
    "\n",
    "    mysql_query = \"\"\"\n",
    "        SELECT DISTINCT `D_PERSON`.`MEDICAL_RECORD_NUMBER`, `FACT`.`AGE_IN_DAYS`, `FD_DIAGNOSIS`.`CONTEXT_NAME`, `FD_DIAGNOSIS`.`CONTEXT_DIAGNOSIS_CODE` \n",
    "        FROM `FACT` \n",
    "            INNER JOIN `D_PERSON` ON `FACT`.`PERSON_KEY` = `D_PERSON`.`PERSON_KEY` \n",
    "            INNER JOIN `B_DIAGNOSIS` ON `FACT`.`DIAGNOSIS_GROUP_KEY` = `B_DIAGNOSIS`.`DIAGNOSIS_GROUP_KEY` \n",
    "            INNER JOIN `FD_DIAGNOSIS` ON `FD_DIAGNOSIS`.`DIAGNOSIS_KEY` = `B_DIAGNOSIS`.`DIAGNOSIS_KEY`\n",
    "        WHERE `FD_DIAGNOSIS`.`CONTEXT_NAME` LIKE 'ICD-9' \n",
    "            AND upper(`FD_DIAGNOSIS`.`CONTEXT_DIAGNOSIS_CODE`) LIKE '584.9' \n",
    "            AND `D_PERSON`.`MEDICAL_RECORD_NUMBER` IN \n",
    "        \"\"\" + mrn_query\n",
    "    \n",
    "    return hana_query, mysql_query"
   ]
  },
  {
   "cell_type": "code",
   "execution_count": null,
   "metadata": {},
   "outputs": [],
   "source": [
    "def execute_benchmark(mrns, limits, query_builder):\n",
    "    hana_benchmark_results = []\n",
    "    mysql_benchmark_results = []\n",
    "    number_of_rows = []\n",
    "    for limit in limits:\n",
    "        queries = query_builder(mrns, limit)\n",
    "        with Timer() as t:\n",
    "            df = read_with_progress(queries[0], hana_engine, silent=True)\n",
    "        number_of_rows.append((limit, len(df)))\n",
    "        hana_benchmark_results.append([limit, t.elapsed])\n",
    "        with Timer() as t:\n",
    "            read_with_progress(queries[1], mysql_engine, silent=True)\n",
    "        mysql_benchmark_results.append([limit, t.elapsed])\n",
    "\n",
    "        slack_notification(f'Done value fetching for {str(limit)} MRNs')\n",
    "\n",
    "    return (\n",
    "        pd.DataFrame(hana_benchmark_results, columns=['# Patients', 'Runtime in s']),\n",
    "        pd.DataFrame(mysql_benchmark_results, columns=['# Patients', 'Runtime in s']),\n",
    "        pd.DataFrame(number_of_rows, columns=['# Patients', '# Rows'])\n",
    "    )"
   ]
  },
  {
   "cell_type": "code",
   "execution_count": null,
   "metadata": {},
   "outputs": [],
   "source": [
    "limits = [10, 100, 500, 1000, 5000, 10000, 15000]\n",
    "hana_results, mysql_results, number_of_rows = execute_benchmark(hs_mrns, limits, build_query)"
   ]
  },
  {
   "cell_type": "markdown",
   "metadata": {},
   "source": [
    "### Result Persisting"
   ]
  },
  {
   "cell_type": "code",
   "execution_count": null,
   "metadata": {},
   "outputs": [],
   "source": [
    "hana_results.to_csv('../results/value_fetching/hana.csv', index=False)\n",
    "mysql_results.to_csv('../results/value_fetching/mysql.csv', index=False)\n",
    "number_of_rows.to_csv('../results/value_fetching/number_of_rows.csv', index=False)"
   ]
  },
  {
   "cell_type": "markdown",
   "metadata": {},
   "source": [
    "### Visualization"
   ]
  },
  {
   "cell_type": "code",
   "execution_count": null,
   "metadata": {},
   "outputs": [],
   "source": [
    "number_of_rows.plot.line(x='# Patients', y='# Rows')"
   ]
  },
  {
   "cell_type": "code",
   "execution_count": null,
   "metadata": {
    "scrolled": true
   },
   "outputs": [],
   "source": [
    "mysql_results.plot.line(x='# Patients', y='Runtime in s')"
   ]
  },
  {
   "cell_type": "code",
   "execution_count": null,
   "metadata": {
    "scrolled": true
   },
   "outputs": [],
   "source": [
    "hana_results.plot.line(x='# Patients', y='Runtime in s')"
   ]
  },
  {
   "cell_type": "code",
   "execution_count": null,
   "metadata": {},
   "outputs": [],
   "source": [
    "results = pd.merge(hana_results, mysql_results, on='# Patients')\n",
    "results.rename(columns={\n",
    "    'Runtime in s_x': 'IMDB Runtime in s', \n",
    "    'Runtime in s_y': 'MySQL Runtime in s'\n",
    "}, inplace=True)\n",
    "\n",
    "plt.figure()\n",
    "\n",
    "results.plot(logy=1, logx=0, x='# Patients')\n",
    "plt.ylabel('Runtime in s')\n",
    "\n",
    "plt.savefig('../figures/value_fetching/runtime.png', dpi=600, bbox_inches=\"tight\")"
   ]
  }
 ],
 "metadata": {
  "kernelspec": {
   "display_name": "Python 3",
   "language": "python",
   "name": "python3"
  },
  "language_info": {
   "codemirror_mode": {
    "name": "ipython",
    "version": 3
   },
   "file_extension": ".py",
   "mimetype": "text/x-python",
   "name": "python",
   "nbconvert_exporter": "python",
   "pygments_lexer": "ipython3",
   "version": "3.6.5"
  }
 },
 "nbformat": 4,
 "nbformat_minor": 2
}
