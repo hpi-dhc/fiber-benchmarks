{
 "cells": [
  {
   "cell_type": "code",
   "execution_count": null,
   "metadata": {},
   "outputs": [],
   "source": [
    "import pandas as pd\n",
    "import matplotlib.pyplot as plt"
   ]
  },
  {
   "cell_type": "markdown",
   "metadata": {},
   "source": [
    "# Additional Visualizations for Global Feature Extraction\n",
    "\n",
    "Relating to the [benchmark for global feature extraction](unsupervised-benchmark.ipynb), we created a fork of FIBER for more insights into the runtime stratified by subtask and the memory consumption."
   ]
  },
  {
   "cell_type": "code",
   "execution_count": null,
   "metadata": {},
   "outputs": [],
   "source": [
    "timers = pd.read_csv('../results/unsupervised/all_timers.csv')"
   ]
  },
  {
   "cell_type": "code",
   "execution_count": null,
   "metadata": {},
   "outputs": [],
   "source": [
    "plt.figure()\n",
    "\n",
    "data = timers[['Occurrences', 'fetching', 'pivoting', 'threshold', 'total']]\n",
    "plt.plot(data['Occurrences'], data['total'], linestyle='-', label='total')\n",
    "plt.plot(data['Occurrences'], data['fetching'], linestyle='-.', label='fetching')\n",
    "plt.plot(data['Occurrences'], data['pivoting'], linestyle='--', label='pivoting')\n",
    "plt.plot(data['Occurrences'], data['threshold'], linestyle=':', label='threshold')\n",
    "plt.ylabel('Runtime in s')\n",
    "plt.xlabel('# Occurrences')\n",
    "plt.legend()\n",
    "\n",
    "plt.savefig('../figures/unsupervised/all_timers.png', dpi=600, bbox_inches=\"tight\")"
   ]
  },
  {
   "cell_type": "code",
   "execution_count": null,
   "metadata": {},
   "outputs": [],
   "source": [
    "sizes = pd.read_csv('../results/unsupervised/unsupervised/sizes.csv')\n",
    "sizes[['# Occurrences', 'Memory Consumption']]\n",
    "sizes['Memory Consumption'] = sizes['Memory Consumption'] / 1_000_000"
   ]
  },
  {
   "cell_type": "code",
   "execution_count": null,
   "metadata": {},
   "outputs": [],
   "source": [
    "plt.figure()\n",
    "\n",
    "data = sizes[['# Occurrences', 'Memory Consumption']]\n",
    "plt.plot(data['# Occurrences'], data['Memory Consumption'], linestyle='-', label='total')\n",
    "plt.ylabel('Result Size in MB')\n",
    "plt.xlabel('# Occurrences')\n",
    "\n",
    "plt.savefig('../figures/unsupervised/memory.png', dpi=600, bbox_inches=\"tight\")"
   ]
  }
 ],
 "metadata": {
  "kernelspec": {
   "display_name": "Python 3",
   "language": "python",
   "name": "python3"
  },
  "language_info": {
   "codemirror_mode": {
    "name": "ipython",
    "version": 3
   },
   "file_extension": ".py",
   "mimetype": "text/x-python",
   "name": "python",
   "nbconvert_exporter": "python",
   "pygments_lexer": "ipython3",
   "version": "3.6.5"
  }
 },
 "nbformat": 4,
 "nbformat_minor": 2
}
