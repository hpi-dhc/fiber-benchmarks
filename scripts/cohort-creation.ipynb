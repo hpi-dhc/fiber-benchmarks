{
 "cells": [
  {
   "cell_type": "code",
   "execution_count": null,
   "metadata": {},
   "outputs": [],
   "source": [
    "import json\n",
    "import requests\n",
    "\n",
    "import matplotlib.pyplot as plt\n",
    "import pandas as pd\n",
    "\n",
    "from fiber.condition import LabValue\n",
    "from fiber.database.hana import engine as hana_engine\n",
    "from fiber.database.mysql import engine as mysql_engine\n",
    "from fiber.utils import Timer"
   ]
  },
  {
   "cell_type": "code",
   "execution_count": null,
   "metadata": {},
   "outputs": [],
   "source": [
    "def slack_notification(text):\n",
    "    webhook_url = 'https://hooks.slack.com/services/xxxx/yyyy'\n",
    "    slack_data = {'text': text}\n",
    "\n",
    "    response = requests.post(\n",
    "        webhook_url, data=json.dumps(slack_data),\n",
    "        headers={'Content-Type': 'application/json'}\n",
    "    )\n",
    "    if response.status_code != 200:\n",
    "        raise ValueError(\n",
    "            'Request to slack returned an error %s, the response is:\\n%s'\n",
    "            % (response.status_code, response.text)\n",
    "        )"
   ]
  },
  {
   "cell_type": "markdown",
   "metadata": {},
   "source": [
    "# `Procedure('35.%', 'ICD-9') | Procedure('36.1%', 'ICD-9')`\n",
    "\n",
    "This notebook executes the benchmark for the creation of a cohort from a condition.\n",
    "In this example two ICD-9 groups are disjoint and catch all valve and bypass surgeries.\n",
    "\n",
    "The queries in `build_query` emulate FIBER's translation process.\n",
    "However, they have a possibility to limit the number of included MRNs in the result, which should control the result size.\n",
    "\n",
    "The benchmark is run for up to 15,000 medical record numbers and reports the execution and fetching time of the queries on HANA and MySQL."
   ]
  },
  {
   "cell_type": "code",
   "execution_count": null,
   "metadata": {},
   "outputs": [],
   "source": [
    "def build_query(limit):\n",
    "    hana_query = \"\"\"\n",
    "        SELECT DISTINCT \"MSDW_2018\".\"D_PERSON\".\"MEDICAL_RECORD_NUMBER\"\n",
    "        FROM \"MSDW_2018\".\"FACT\"\n",
    "            JOIN \"MSDW_2018\".\"D_PERSON\" ON \"MSDW_2018\".\"FACT\".\"PERSON_KEY\" = \"MSDW_2018\".\"D_PERSON\".\"PERSON_KEY\"\n",
    "            JOIN \"MSDW_2018\".\"B_PROCEDURE\" ON \"MSDW_2018\".\"FACT\".\"PROCEDURE_GROUP_KEY\" = \"MSDW_2018\".\"B_PROCEDURE\".\"PROCEDURE_GROUP_KEY\"\n",
    "            JOIN \"MSDW_2018\".\"FD_PROCEDURE\" ON \"MSDW_2018\".\"FD_PROCEDURE\".\"PROCEDURE_KEY\" = \"MSDW_2018\".\"B_PROCEDURE\".\"PROCEDURE_KEY\"\n",
    "        WHERE \"MSDW_2018\".\"FACT\".\"AGE_IN_DAYS\" >= 6570\n",
    "          AND \"MSDW_2018\".\"FD_PROCEDURE\".\"CONTEXT_NAME\" LIKE 'ICD-9'\n",
    "          AND upper(\"MSDW_2018\".\"FD_PROCEDURE\".\"CONTEXT_PROCEDURE_CODE\") LIKE '35.%'\n",
    "          OR \"MSDW_2018\".\"FACT\".\"AGE_IN_DAYS\" >= 6570\n",
    "          AND \"MSDW_2018\".\"FD_PROCEDURE\".\"CONTEXT_NAME\" LIKE 'ICD-9'\n",
    "          AND upper(\"MSDW_2018\".\"FD_PROCEDURE\".\"CONTEXT_PROCEDURE_CODE\") LIKE '36.1%'\n",
    "        LIMIT \n",
    "    \"\"\" + str(limit)\n",
    "\n",
    "    mysql_query = \"\"\"\n",
    "        SELECT DISTINCT `D_PERSON`.`MEDICAL_RECORD_NUMBER`\n",
    "        FROM `FACT`\n",
    "            INNER JOIN `D_PERSON` ON `FACT`.`PERSON_KEY` = `D_PERSON`.`PERSON_KEY`\n",
    "            INNER JOIN `B_PROCEDURE` ON `FACT`.`PROCEDURE_GROUP_KEY` = `B_PROCEDURE`.`PROCEDURE_GROUP_KEY`\n",
    "            INNER JOIN `FD_PROCEDURE` ON `FD_PROCEDURE`.`PROCEDURE_KEY` = `B_PROCEDURE`.`PROCEDURE_KEY`\n",
    "        WHERE `FACT`.`AGE_IN_DAYS` >= 6570\n",
    "          AND `FD_PROCEDURE`.`CONTEXT_NAME` LIKE 'ICD-9'\n",
    "          AND upper(`FD_PROCEDURE`.`CONTEXT_PROCEDURE_CODE`) LIKE '35.%%'\n",
    "          OR `FACT`.`AGE_IN_DAYS` >= 6570\n",
    "          AND `FD_PROCEDURE`.`CONTEXT_NAME` LIKE 'ICD-9'\n",
    "          AND upper(`FD_PROCEDURE`.`CONTEXT_PROCEDURE_CODE`) LIKE '36.1%%'\n",
    "        LIMIT \n",
    "    \"\"\" + str(limit)\n",
    "    return (hana_query, mysql_query)"
   ]
  },
  {
   "cell_type": "code",
   "execution_count": null,
   "metadata": {},
   "outputs": [],
   "source": [
    "def execute_benchmark(limits, query_builder):\n",
    "    hana_benchmark_results = []\n",
    "    mysql_benchmark_results = []\n",
    "    for limit in limits:\n",
    "        queries = query_builder(limit)\n",
    "        with Timer() as t:\n",
    "            pd.read_sql(queries[0], hana_engine)\n",
    "        hana_benchmark_results.append([limit, t.elapsed])\n",
    "        with Timer() as t:\n",
    "            pd.read_sql(queries[1], mysql_engine)\n",
    "        mysql_benchmark_results.append([limit, t.elapsed])\n",
    "        \n",
    "        slack_notification(f'Done {str(limit)} medical record numbers')\n",
    "    return (\n",
    "        pd.DataFrame(hana_benchmark_results, columns=['# Patients', 'Runtime in s']),\n",
    "        pd.DataFrame(mysql_benchmark_results, columns=['# Patients', 'Runtime in s'])\n",
    "    )"
   ]
  },
  {
   "cell_type": "code",
   "execution_count": null,
   "metadata": {},
   "outputs": [],
   "source": [
    "limits = [10, 100, 500, 1000, 5000, 10000, 15000]\n",
    "hana_results, mysql_results = execute_benchmark(limits, build_query)"
   ]
  },
  {
   "cell_type": "markdown",
   "metadata": {},
   "source": [
    "### Result Persisting"
   ]
  },
  {
   "cell_type": "code",
   "execution_count": null,
   "metadata": {},
   "outputs": [],
   "source": [
    "hana_results.to_csv('../results/cohort/hana.csv')\n",
    "mysql_results.to_csv('../results/cohort/mysql.csv')"
   ]
  },
  {
   "cell_type": "markdown",
   "metadata": {},
   "source": [
    "### Visualization"
   ]
  },
  {
   "cell_type": "code",
   "execution_count": null,
   "metadata": {},
   "outputs": [],
   "source": [
    "hana_results.plot.line(x='# Patients', y='Runtime in s')"
   ]
  },
  {
   "cell_type": "code",
   "execution_count": null,
   "metadata": {},
   "outputs": [],
   "source": [
    "mysql_results.plot.line(x='# Patients', y='Runtime in s')"
   ]
  },
  {
   "cell_type": "code",
   "execution_count": null,
   "metadata": {
    "scrolled": true
   },
   "outputs": [],
   "source": [
    "results = pd.merge(hana_procedure_results, mysql_procedure_results, on='# Patients')\n",
    "results.rename(columns={'Runtime in s_x': 'HANA Runtime in s', 'Runtime in s_y': 'MySQL Runtime in s'}, inplace=True)\n",
    "\n",
    "plt.figure()\n",
    "\n",
    "results.plot(logy=1, logx=0, x='# Patients')\n",
    "plt.ylabel('Runtime in s')\n",
    "\n",
    "plt.savefig('../results/figures/cohort/runtime.png', dpi=600, bbox_inches=\"tight\")"
   ]
  }
 ],
 "metadata": {
  "kernelspec": {
   "display_name": "Python 3",
   "language": "python",
   "name": "python3"
  },
  "language_info": {
   "codemirror_mode": {
    "name": "ipython",
    "version": 3
   },
   "file_extension": ".py",
   "mimetype": "text/x-python",
   "name": "python",
   "nbconvert_exporter": "python",
   "pygments_lexer": "ipython3",
   "version": "3.6.5"
  }
 },
 "nbformat": 4,
 "nbformat_minor": 2
}
