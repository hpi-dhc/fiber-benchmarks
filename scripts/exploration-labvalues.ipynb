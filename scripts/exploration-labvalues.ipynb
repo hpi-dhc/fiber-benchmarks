{
 "cells": [
  {
   "cell_type": "code",
   "execution_count": null,
   "metadata": {},
   "outputs": [],
   "source": [
    "import json\n",
    "import requests\n",
    "\n",
    "import matplotlib.pyplot as plt\n",
    "import pandas as pd"
   ]
  },
  {
   "cell_type": "code",
   "execution_count": null,
   "metadata": {},
   "outputs": [],
   "source": [
    "from fiber.database.hana import engine as hana_engine\n",
    "from fiber.database.mysql import engine as mysql_engine\n",
    "from fiber.utils import Timer"
   ]
  },
  {
   "cell_type": "code",
   "execution_count": null,
   "metadata": {},
   "outputs": [],
   "source": [
    "def slack_notification(text):\n",
    "    webhook_url = 'https://hooks.slack.com/services/xxxx/yyyy'\n",
    "    slack_data = {'text': text}\n",
    "\n",
    "    response = requests.post(\n",
    "        webhook_url, data=json.dumps(slack_data),\n",
    "        headers={'Content-Type': 'application/json'}\n",
    "    )\n",
    "    if response.status_code != 200:\n",
    "        raise ValueError(\n",
    "            'Request to slack returned an error %s, the response is:\\n%s'\n",
    "            % (response.status_code, response.text)\n",
    "        )"
   ]
  },
  {
   "cell_type": "markdown",
   "metadata": {},
   "source": [
    "# `LabValue('%Glucose%').patients_per('TEST_NAME')`\n",
    "\n",
    "This notebook executes the benchmark for the exploration of a condition.\n",
    "In this example laboratory tests that have a name similar to GLUCOSE are fetched with the number of patients that they were executed for.\n",
    "\n",
    "The queries in `build_query` emulate FIBER's translation process.\n",
    "However, they have a possibility to limit the number of included lab results, which should control the result size.\n",
    "\n",
    "The benchmark is run for up to 100,000,000 lab results and reports the execution and fetching time of the queries on HANA and MySQL."
   ]
  },
  {
   "cell_type": "code",
   "execution_count": null,
   "metadata": {
    "scrolled": true
   },
   "outputs": [],
   "source": [
    "def build_query(limit):\n",
    "    hana_query = \"\"\"\n",
    "        SELECT DISTINCT TEST_NAME,\n",
    "            count(DISTINCT \"EPIC_LAB\".\"MEDICAL_RECORD_NUMBER\") AS patients\n",
    "        FROM \"MSDW_2018\".\"EPIC_LAB\"\n",
    "        WHERE upper(\"EPIC_LAB\".\"TEST_NAME\") LIKE '%GLUCOSE%'\n",
    "            AND \"EPIC_LAB\".\"ID\" < \"\"\" + str(limit) + \"\"\"\n",
    "        GROUP BY TEST_NAME\n",
    "        ORDER BY patients DESC\n",
    "    \"\"\"\n",
    "\n",
    "    mysql_query = \"\"\"\n",
    "        SELECT DISTINCT TEST_NAME,\n",
    "            count(DISTINCT `EPIC_LAB`.`MEDICAL_RECORD_NUMBER`) AS patients\n",
    "        FROM `EPIC_LAB`\n",
    "        WHERE upper(`EPIC_LAB`.`TEST_NAME`) LIKE '%%GLUCOSE%%' \n",
    "            AND `EPIC_LAB`.`ID` < \"\"\" + str(limit) + \"\"\"\n",
    "        GROUP BY `TEST_NAME`\n",
    "        ORDER BY patients DESC\n",
    "    \"\"\"\n",
    "    return hana_query, mysql_query"
   ]
  },
  {
   "cell_type": "code",
   "execution_count": null,
   "metadata": {},
   "outputs": [],
   "source": [
    "def execute_benchmark(limits, query_builder):\n",
    "    hana_benchmark_results = []\n",
    "    mysql_benchmark_results = []\n",
    "    for limit in limits:\n",
    "        queries = query_builder(limit)\n",
    "        with Timer() as t:\n",
    "            pd.read_sql(queries[0], hana_engine)\n",
    "        hana_benchmark_results.append([limit, t.elapsed])\n",
    "        with Timer() as t:\n",
    "            pd.read_sql(queries[1], mysql_engine)\n",
    "        mysql_benchmark_results.append([limit, t.elapsed])\n",
    "\n",
    "        slack_notification(f'Sup! Done {str(limit)} lab values')\n",
    "\n",
    "    return (\n",
    "        pd.DataFrame(hana_benchmark_results, columns=['# LabTests', 'Runtime in s']),\n",
    "        pd.DataFrame(mysql_benchmark_results, columns=['# LabTests', 'Runtime in s'])\n",
    "    )"
   ]
  },
  {
   "cell_type": "code",
   "execution_count": null,
   "metadata": {
    "scrolled": true
   },
   "outputs": [],
   "source": [
    "limits = [10, 100, 1000, 10_000, 100_000, 1_000_000, 10_000_000, 100_000_000]\n",
    "hana_results, mysql_results = execute_benchmark(limits, build_query)"
   ]
  },
  {
   "cell_type": "markdown",
   "metadata": {},
   "source": [
    "### Result Persisting"
   ]
  },
  {
   "cell_type": "code",
   "execution_count": null,
   "metadata": {},
   "outputs": [],
   "source": [
    "hana_results.to_csv('../results/exploration/hana.csv', index=False)\n",
    "mysql_results.to_csv('../results/exploration/mysql.csv', index=False)"
   ]
  },
  {
   "cell_type": "code",
   "execution_count": null,
   "metadata": {},
   "outputs": [],
   "source": [
    "hana_results = pd.read_csv('../results/exploration/hana.csv')\n",
    "mysql_results = pd.read_csv('../results/exploration/mysql.csv')"
   ]
  },
  {
   "cell_type": "markdown",
   "metadata": {},
   "source": [
    "### Visualization"
   ]
  },
  {
   "cell_type": "code",
   "execution_count": null,
   "metadata": {
    "scrolled": false
   },
   "outputs": [],
   "source": [
    "hana_results.plot.line(x='# LabTests', y='Runtime in s', logy=1, logx=1)"
   ]
  },
  {
   "cell_type": "code",
   "execution_count": null,
   "metadata": {
    "scrolled": false
   },
   "outputs": [],
   "source": [
    "mysql_results.plot.line(x='# LabTests', y='Runtime in s', logy=1, logx=1)"
   ]
  },
  {
   "cell_type": "code",
   "execution_count": null,
   "metadata": {},
   "outputs": [],
   "source": [
    "results = pd.merge(mysql_results, hana_results, on='# LabTests')\n",
    "results.rename(columns={'Runtime in s_x': 'MySQL Runtime in s', 'Runtime in s_y': 'IMDB Runtime in s'}, inplace=True)\n",
    "\n",
    "plt.figure()\n",
    "\n",
    "plt.plot(results['# LabTests'], results['MySQL Runtime in s'], '--', linewidth=2, markersize=12, label='MySQL Runtime in s')\n",
    "plt.plot(results['# LabTests'], results['IMDB Runtime in s'], '-', linewidth=2, markersize=12, label='IMDB Runtime in s')\n",
    "plt.yscale('log')\n",
    "plt.xscale('log')\n",
    "plt.ylabel('Runtime in s')\n",
    "plt.xlabel('# Lab Tests')\n",
    "plt.xlim(10)\n",
    "plt.legend()\n",
    "plt.title('Exploratory Grouping of Lab Tests')\n",
    "plt.savefig('../figures/exploration/runtime.png', dpi=600, bbox_inches=\"tight\")"
   ]
  }
 ],
 "metadata": {
  "kernelspec": {
   "display_name": "Python 3",
   "language": "python",
   "name": "python3"
  },
  "language_info": {
   "codemirror_mode": {
    "name": "ipython",
    "version": 3
   },
   "file_extension": ".py",
   "mimetype": "text/x-python",
   "name": "python",
   "nbconvert_exporter": "python",
   "pygments_lexer": "ipython3",
   "version": "3.7.4"
  }
 },
 "nbformat": 4,
 "nbformat_minor": 2
}
